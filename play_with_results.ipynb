{
 "cells": [
  {
   "cell_type": "code",
   "execution_count": null,
   "metadata": {},
   "outputs": [],
   "source": [
    "import pandas as pd\n",
    "from itertools import product\n",
    "\n",
    "df = pd.read_csv(\"all_results.csv\")"
   ]
  },
  {
   "cell_type": "code",
   "execution_count": null,
   "metadata": {},
   "outputs": [],
   "source": [
    "from tqdm import tqdm\n",
    "\n",
    "fissile = [\"U233\", \"U235\", \"PU239\", \"PU241\"]\n",
    "df[\"Total fissile\"]= df[fissile].sum(axis=1)\n",
    "\n",
    "def calculate_limit_burnup(grouped_df):\n",
    "    if grouped_df[\"KINF (PCM)\"].iloc[0] < 1:\n",
    "        return -1\n",
    "    if all(grouped_df[\"KINF (PCM)\"] > 1):\n",
    "        return 1e20\n",
    "    \n",
    "    kinf_below_1 = next(i for i, kinf in enumerate(grouped_df[\"KINF (PCM)\"]) if kinf < 1)\n",
    "    \n",
    "    y2 = grouped_df[\"KINF (PCM)\"].iloc[kinf_below_1]\n",
    "    y1 = grouped_df[\"KINF (PCM)\"].iloc[kinf_below_1-1]\n",
    "    x2 = grouped_df[\"BURNUP (Mwd/t)\"].iloc[kinf_below_1]\n",
    "    x1 = grouped_df[\"BURNUP (Mwd/t)\"].iloc[kinf_below_1-1]\n",
    "\n",
    "    a = (y2 - y1) / (x2 - x1)\n",
    "    b = y1 - x1 * a\n",
    "    return (1 - b) / a\n",
    "\n",
    "\n",
    "def calculate_conversion_ratio_at_burnup(grouped_df, input_burnup):\n",
    "    idx = next((i for i, burnup in enumerate(grouped_df[\"BURNUP (Mwd/t)\"]) if burnup > input_burnup), len(grouped_df))\n",
    "    return grouped_df[\"Total fissile\"].iloc[idx-1] / grouped_df[\"Total fissile\"].iloc[0]\n",
    "    \n",
    "\n",
    "for keys, grouped_df in tqdm(df.groupby([\"Thorium Chain\", \"U233 Input\", \"U235 Input\", \"PUTOT Input\", \"Moderator radius\"])):\n",
    "    cell_burnup = calculate_limit_burnup(grouped_df)\n",
    "    if cell_burnup > 0:\n",
    "        true_burnup = 2 * cell_burnup\n",
    "        cr = calculate_conversion_ratio_at_burnup(grouped_df, true_burnup)\n",
    "        if cr > 1 and true_burnup > 4000:\n",
    "            print(keys, cr, true_burnup)\n"
   ]
  }
 ],
 "metadata": {
  "kernelspec": {
   "display_name": ".venv",
   "language": "python",
   "name": "python3"
  },
  "language_info": {
   "codemirror_mode": {
    "name": "ipython",
    "version": 3
   },
   "file_extension": ".py",
   "mimetype": "text/x-python",
   "name": "python",
   "nbconvert_exporter": "python",
   "pygments_lexer": "ipython3",
   "version": "3.10.8"
  },
  "orig_nbformat": 4,
  "vscode": {
   "interpreter": {
    "hash": "0843744f8777a22a859fbce534874a4f5872800230c564e5799ec1e010d33f0a"
   }
  }
 },
 "nbformat": 4,
 "nbformat_minor": 2
}
